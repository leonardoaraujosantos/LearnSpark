{
 "cells": [
  {
   "cell_type": "markdown",
   "metadata": {},
   "source": [
    "### Spark and Cassandra\n",
    "\n",
    "This tutorial aims to show how to work with cassandra and apache spark. The idea of merging the distributed dataset (Cassandra) and the Distributed framework, is that will allow us to easily play with the data on the cases that the data itself is bigger than what our machines (or a single powefull machine) can handle.\n",
    "\n",
    "#### Activate python 3.5\n",
    "The Cassandra Spark (version 2.1.1) connector does not work with the newest version of apache spark, which also does not work with python 3.6, so we need to make this trick: Install older apache spark (version 2.1.0), then use anaconda to create a python 3.5 enviroment\n",
    "```bash\n",
    "conda create -n py35 python=3.5 anaconda\n",
    "source activate py35\n",
    "```\n",
    "\n",
    "#### Initialize Spark and Cassandra\n",
    "```bash\n",
    "pyspark --packages datastax:spark-cassandra-connector:2.0.1-s_2.11 --conf spark.cassandra.connection.host=127.0.0.1\n",
    "```\n",
    "References:\n",
    "* https://www.youtube.com/watch?v=A-j0IShmG1U\n",
    "* https://www.youtube.com/watch?v=9lc-OJ9QJO0\n",
    "* https://www.youtube.com/watch?v=SxU0CJJ2nVE\n",
    "* https://www.youtube.com/watch?v=GjNXK1SGDLw\n",
    "* https://github.com/datastax/spark-cassandra-connector\n",
    "* https://spark-packages.org/package/datastax/spark-cassandra-connector\n",
    "* https://stackoverflow.com/questions/34882097/cannot-connect-to-cassandra-from-spark\n",
    "* https://www.analyticsvidhya.com/blog/2016/10/spark-dataframe-and-operations/\n",
    "* http://www.learnbymarketing.com/618/pyspark-rdd-basics-examples/\n",
    "* https://www.datacamp.com/community/tutorials/apache-spark-python#gs.l5EtU_Q\n",
    "* https://spark.apache.org/docs/latest/programming-guide.html\n",
    "* https://github.com/datastax/spark-cassandra-connector/tree/master/doc\n",
    "* https://stackoverflow.com/questions/29109916/updating-a-dataframe-column-in-spark\n",
    "* https://docs.databricks.com/spark/latest/dataframes-datasets/index.html\n",
    "* https://stackoverflow.com/questions/40583909/how-to-update-a-column-in-pyspark-based-on-other-column\n",
    "* https://spark.apache.org/docs/latest/sql-programming-guide.html"
   ]
  },
  {
   "cell_type": "markdown",
   "metadata": {},
   "source": [
    "### Create a Dataframe from Cassandra"
   ]
  },
  {
   "cell_type": "code",
   "execution_count": 1,
   "metadata": {
    "collapsed": false
   },
   "outputs": [
    {
     "name": "stdout",
     "output_type": "stream",
     "text": [
      "root\n",
      " |-- id: string (nullable = true)\n",
      " |-- acc: float (nullable = true)\n",
      " |-- image: binary (nullable = true)\n",
      " |-- wheel_angle: float (nullable = true)\n",
      "\n"
     ]
    }
   ],
   "source": [
    "df = spark.read.format(\"org.apache.spark.sql.cassandra\").options(table=\"tb_drive\", keyspace=\"mydb\").load()\n",
    "\n",
    "# Show dataframe (Distributed table structure)\n",
    "df.printSchema()"
   ]
  },
  {
   "cell_type": "markdown",
   "metadata": {},
   "source": [
    "### Get dataframe size"
   ]
  },
  {
   "cell_type": "code",
   "execution_count": 2,
   "metadata": {
    "collapsed": false
   },
   "outputs": [
    {
     "name": "stdout",
     "output_type": "stream",
     "text": [
      "DataFrame size: 6380\n"
     ]
    }
   ],
   "source": [
    "# Get the size of the dataframe\n",
    "print('DataFrame size:',df.count())"
   ]
  },
  {
   "cell_type": "markdown",
   "metadata": {},
   "source": [
    "### Convert dataframe to pandas to display nicelly"
   ]
  },
  {
   "cell_type": "code",
   "execution_count": 3,
   "metadata": {
    "collapsed": false
   },
   "outputs": [
    {
     "name": "stdout",
     "output_type": "stream",
     "text": [
      "+--------------------+---------+--------------------+-----------+\n",
      "|                  id|      acc|               image|wheel_angle|\n",
      "+--------------------+---------+--------------------+-----------+\n",
      "|7e1ea253-5672-11e...|      1.0|[89 50 4E 47 0D 0...|   0.138223|\n",
      "|71b9ea67-574f-11e...| 0.302832|[89 50 4E 47 0D 0...|   -0.12854|\n",
      "|6cf4879f-574f-11e...| 0.680465|[89 50 4E 47 0D 0...|   -0.12854|\n",
      "|8a2975c3-574f-11e...|0.0510772|[89 50 4E 47 0D 0...|  -0.719196|\n",
      "|decb8322-574b-11e...|      0.0|[89 50 4E 47 0D 0...|        0.0|\n",
      "+--------------------+---------+--------------------+-----------+\n",
      "only showing top 5 rows\n",
      "\n"
     ]
    }
   ],
   "source": [
    "# Caution because you could load more data that your memory could handle.\n",
    "#df.toPandas().head(5)\n",
    "df.show(5)"
   ]
  },
  {
   "cell_type": "markdown",
   "metadata": {},
   "source": [
    "### Get a batch\n",
    "Get a random batch from the dataset without replacement (1% of the dataset)"
   ]
  },
  {
   "cell_type": "code",
   "execution_count": 4,
   "metadata": {
    "collapsed": false
   },
   "outputs": [
    {
     "name": "stdout",
     "output_type": "stream",
     "text": [
      "Batch size: 52\n"
     ]
    },
    {
     "data": {
      "text/html": [
       "<div>\n",
       "<style>\n",
       "    .dataframe thead tr:only-child th {\n",
       "        text-align: right;\n",
       "    }\n",
       "\n",
       "    .dataframe thead th {\n",
       "        text-align: left;\n",
       "    }\n",
       "\n",
       "    .dataframe tbody tr th {\n",
       "        vertical-align: top;\n",
       "    }\n",
       "</style>\n",
       "<table border=\"1\" class=\"dataframe\">\n",
       "  <thead>\n",
       "    <tr style=\"text-align: right;\">\n",
       "      <th></th>\n",
       "      <th>id</th>\n",
       "      <th>acc</th>\n",
       "      <th>image</th>\n",
       "      <th>wheel_angle</th>\n",
       "    </tr>\n",
       "  </thead>\n",
       "  <tbody>\n",
       "    <tr>\n",
       "      <th>0</th>\n",
       "      <td>e42ab7de-574f-11e7-9708-989096d72294</td>\n",
       "      <td>1.000000</td>\n",
       "      <td>[137, 80, 78, 71, 13, 10, 26, 10, 0, 0, 0, 13,...</td>\n",
       "      <td>-0.235052</td>\n",
       "    </tr>\n",
       "    <tr>\n",
       "      <th>1</th>\n",
       "      <td>cf4fe0d1-574b-11e7-9708-989096d72294</td>\n",
       "      <td>0.632050</td>\n",
       "      <td>[137, 80, 78, 71, 13, 10, 26, 10, 0, 0, 0, 13,...</td>\n",
       "      <td>-0.051077</td>\n",
       "    </tr>\n",
       "    <tr>\n",
       "      <th>2</th>\n",
       "      <td>9393a82d-5672-11e7-9708-989096d72294</td>\n",
       "      <td>0.477124</td>\n",
       "      <td>[137, 80, 78, 71, 13, 10, 26, 10, 0, 0, 0, 13,...</td>\n",
       "      <td>0.002663</td>\n",
       "    </tr>\n",
       "    <tr>\n",
       "      <th>3</th>\n",
       "      <td>d8d6bd58-574b-11e7-9708-989096d72294</td>\n",
       "      <td>0.738562</td>\n",
       "      <td>[137, 80, 78, 71, 13, 10, 26, 10, 0, 0, 0, 13,...</td>\n",
       "      <td>0.157589</td>\n",
       "    </tr>\n",
       "    <tr>\n",
       "      <th>4</th>\n",
       "      <td>87a6c73a-5672-11e7-9708-989096d72294</td>\n",
       "      <td>1.000000</td>\n",
       "      <td>[137, 80, 78, 71, 13, 10, 26, 10, 0, 0, 0, 13,...</td>\n",
       "      <td>-0.080126</td>\n",
       "    </tr>\n",
       "  </tbody>\n",
       "</table>\n",
       "</div>"
      ],
      "text/plain": [
       "                                     id       acc  \\\n",
       "0  e42ab7de-574f-11e7-9708-989096d72294  1.000000   \n",
       "1  cf4fe0d1-574b-11e7-9708-989096d72294  0.632050   \n",
       "2  9393a82d-5672-11e7-9708-989096d72294  0.477124   \n",
       "3  d8d6bd58-574b-11e7-9708-989096d72294  0.738562   \n",
       "4  87a6c73a-5672-11e7-9708-989096d72294  1.000000   \n",
       "\n",
       "                                               image  wheel_angle  \n",
       "0  [137, 80, 78, 71, 13, 10, 26, 10, 0, 0, 0, 13,...    -0.235052  \n",
       "1  [137, 80, 78, 71, 13, 10, 26, 10, 0, 0, 0, 13,...    -0.051077  \n",
       "2  [137, 80, 78, 71, 13, 10, 26, 10, 0, 0, 0, 13,...     0.002663  \n",
       "3  [137, 80, 78, 71, 13, 10, 26, 10, 0, 0, 0, 13,...     0.157589  \n",
       "4  [137, 80, 78, 71, 13, 10, 26, 10, 0, 0, 0, 13,...    -0.080126  "
      ]
     },
     "execution_count": 4,
     "metadata": {},
     "output_type": "execute_result"
    }
   ],
   "source": [
    "df_batch = df.sample(False, 0.01)\n",
    "print('Batch size:',df_batch.count())\n",
    "df_batch.toPandas().head()"
   ]
  },
  {
   "cell_type": "markdown",
   "metadata": {},
   "source": [
    "### Do queries inside the dataframe (Using Spark Dataframe API)"
   ]
  },
  {
   "cell_type": "code",
   "execution_count": 5,
   "metadata": {
    "collapsed": false
   },
   "outputs": [
    {
     "data": {
      "text/plain": [
       "4645"
      ]
     },
     "execution_count": 5,
     "metadata": {},
     "output_type": "execute_result"
    }
   ],
   "source": [
    "# Get all angles different than zero\n",
    "df.filter(df.wheel_angle != 0).count()"
   ]
  },
  {
   "cell_type": "code",
   "execution_count": 6,
   "metadata": {
    "collapsed": false
   },
   "outputs": [
    {
     "data": {
      "text/plain": [
       "4377"
      ]
     },
     "execution_count": 6,
     "metadata": {},
     "output_type": "execute_result"
    }
   ],
   "source": [
    "# How many times we did not accelerate fully...\n",
    "df.filter(df.acc != 1).count()"
   ]
  },
  {
   "cell_type": "markdown",
   "metadata": {},
   "source": [
    "### Do queries inside the dataframe (Using Spark Sql API)\n",
    "We can transform a dataframe into a temporary table on the cluster allowing us to fully use SQL language."
   ]
  },
  {
   "cell_type": "code",
   "execution_count": 7,
   "metadata": {
    "collapsed": false
   },
   "outputs": [
    {
     "name": "stdout",
     "output_type": "stream",
     "text": [
      "Number of instances: 1536\n"
     ]
    },
    {
     "data": {
      "text/html": [
       "<div>\n",
       "<style>\n",
       "    .dataframe thead tr:only-child th {\n",
       "        text-align: right;\n",
       "    }\n",
       "\n",
       "    .dataframe thead th {\n",
       "        text-align: left;\n",
       "    }\n",
       "\n",
       "    .dataframe tbody tr th {\n",
       "        vertical-align: top;\n",
       "    }\n",
       "</style>\n",
       "<table border=\"1\" class=\"dataframe\">\n",
       "  <thead>\n",
       "    <tr style=\"text-align: right;\">\n",
       "      <th></th>\n",
       "      <th>wheel_angle</th>\n",
       "      <th>acc</th>\n",
       "    </tr>\n",
       "  </thead>\n",
       "  <tbody>\n",
       "    <tr>\n",
       "      <th>0</th>\n",
       "      <td>0.138223</td>\n",
       "      <td>1.000000</td>\n",
       "    </tr>\n",
       "    <tr>\n",
       "      <th>1</th>\n",
       "      <td>0.235052</td>\n",
       "      <td>1.000000</td>\n",
       "    </tr>\n",
       "    <tr>\n",
       "      <th>2</th>\n",
       "      <td>0.147906</td>\n",
       "      <td>0.000000</td>\n",
       "    </tr>\n",
       "    <tr>\n",
       "      <th>3</th>\n",
       "      <td>0.486807</td>\n",
       "      <td>0.118857</td>\n",
       "    </tr>\n",
       "    <tr>\n",
       "      <th>4</th>\n",
       "      <td>0.254418</td>\n",
       "      <td>0.000000</td>\n",
       "    </tr>\n",
       "  </tbody>\n",
       "</table>\n",
       "</div>"
      ],
      "text/plain": [
       "   wheel_angle       acc\n",
       "0     0.138223  1.000000\n",
       "1     0.235052  1.000000\n",
       "2     0.147906  0.000000\n",
       "3     0.486807  0.118857\n",
       "4     0.254418  0.000000"
      ]
     },
     "execution_count": 7,
     "metadata": {},
     "output_type": "execute_result"
    }
   ],
   "source": [
    "df.registerTempTable(\"autodrive\")\n",
    "df_filt = sqlContext.sql(\"SELECT wheel_angle, acc FROM autodrive where wheel_angle between 0.1 and 1.0\")\n",
    "print('Number of instances:',df_filt.count())\n",
    "df_filt.toPandas().head()"
   ]
  },
  {
   "cell_type": "markdown",
   "metadata": {},
   "source": [
    "### Executing stuff on the cluster\n",
    "Until now we check how to filter data inside the cluster or gather some sort of statistics. But now imagine that we want to do some sort of operation on each element of our RDD or dataframe."
   ]
  },
  {
   "cell_type": "code",
   "execution_count": 8,
   "metadata": {
    "collapsed": false
   },
   "outputs": [
    {
     "name": "stdout",
     "output_type": "stream",
     "text": [
      "Zero angle samples: 1735\n"
     ]
    }
   ],
   "source": [
    "df_zero_angle = df.filter(df.wheel_angle == 0)\n",
    "print('Zero angle samples:',df_zero_angle.count())"
   ]
  },
  {
   "cell_type": "code",
   "execution_count": 9,
   "metadata": {
    "collapsed": false
   },
   "outputs": [
    {
     "data": {
      "text/html": [
       "<div>\n",
       "<style>\n",
       "    .dataframe thead tr:only-child th {\n",
       "        text-align: right;\n",
       "    }\n",
       "\n",
       "    .dataframe thead th {\n",
       "        text-align: left;\n",
       "    }\n",
       "\n",
       "    .dataframe tbody tr th {\n",
       "        vertical-align: top;\n",
       "    }\n",
       "</style>\n",
       "<table border=\"1\" class=\"dataframe\">\n",
       "  <thead>\n",
       "    <tr style=\"text-align: right;\">\n",
       "      <th></th>\n",
       "      <th>acc</th>\n",
       "      <th>id</th>\n",
       "      <th>image</th>\n",
       "      <th>wheel_angle</th>\n",
       "    </tr>\n",
       "  </thead>\n",
       "  <tbody>\n",
       "    <tr>\n",
       "      <th>0</th>\n",
       "      <td>0.000000</td>\n",
       "      <td>decb8322-574b-11e7-9708-989096d72294</td>\n",
       "      <td>[137, 80, 78, 71, 13, 10, 26, 10, 0, 0, 0, 13,...</td>\n",
       "      <td>0.001535</td>\n",
       "    </tr>\n",
       "    <tr>\n",
       "      <th>1</th>\n",
       "      <td>0.680465</td>\n",
       "      <td>bf374f9d-574b-11e7-9708-989096d72294</td>\n",
       "      <td>[137, 80, 78, 71, 13, 10, 26, 10, 0, 0, 0, 13,...</td>\n",
       "      <td>0.006153</td>\n",
       "    </tr>\n",
       "    <tr>\n",
       "      <th>2</th>\n",
       "      <td>0.312515</td>\n",
       "      <td>b47cd674-574b-11e7-9708-989096d72294</td>\n",
       "      <td>[137, 80, 78, 71, 13, 10, 26, 10, 0, 0, 0, 13,...</td>\n",
       "      <td>0.002423</td>\n",
       "    </tr>\n",
       "    <tr>\n",
       "      <th>3</th>\n",
       "      <td>1.000000</td>\n",
       "      <td>dd9b4c91-574b-11e7-9708-989096d72294</td>\n",
       "      <td>[137, 80, 78, 71, 13, 10, 26, 10, 0, 0, 0, 13,...</td>\n",
       "      <td>0.004836</td>\n",
       "    </tr>\n",
       "    <tr>\n",
       "      <th>4</th>\n",
       "      <td>0.000000</td>\n",
       "      <td>daa5962d-574f-11e7-9708-989096d72294</td>\n",
       "      <td>[137, 80, 78, 71, 13, 10, 26, 10, 0, 0, 0, 13,...</td>\n",
       "      <td>0.003109</td>\n",
       "    </tr>\n",
       "  </tbody>\n",
       "</table>\n",
       "</div>"
      ],
      "text/plain": [
       "        acc                                    id  \\\n",
       "0  0.000000  decb8322-574b-11e7-9708-989096d72294   \n",
       "1  0.680465  bf374f9d-574b-11e7-9708-989096d72294   \n",
       "2  0.312515  b47cd674-574b-11e7-9708-989096d72294   \n",
       "3  1.000000  dd9b4c91-574b-11e7-9708-989096d72294   \n",
       "4  0.000000  daa5962d-574f-11e7-9708-989096d72294   \n",
       "\n",
       "                                               image  wheel_angle  \n",
       "0  [137, 80, 78, 71, 13, 10, 26, 10, 0, 0, 0, 13,...     0.001535  \n",
       "1  [137, 80, 78, 71, 13, 10, 26, 10, 0, 0, 0, 13,...     0.006153  \n",
       "2  [137, 80, 78, 71, 13, 10, 26, 10, 0, 0, 0, 13,...     0.002423  \n",
       "3  [137, 80, 78, 71, 13, 10, 26, 10, 0, 0, 0, 13,...     0.004836  \n",
       "4  [137, 80, 78, 71, 13, 10, 26, 10, 0, 0, 0, 13,...     0.003109  "
      ]
     },
     "execution_count": 9,
     "metadata": {},
     "output_type": "execute_result"
    }
   ],
   "source": [
    "from pyspark.sql import Row\n",
    "import random\n",
    "\n",
    "# Some function that will be executed on the cluster to perturb the angles\n",
    "def perturb_angles(data):    \n",
    "    #print('Type:',type(data.wheel_angle),'Val:',data.wheel_angle)\n",
    "    # Create a new row\n",
    "    newRow = Row(id=data.id, \n",
    "                 acc=data.acc, \n",
    "                 wheel_angle=data.wheel_angle + (random.uniform(-1, 1) * 0.01),\n",
    "                 image=data.image\n",
    "                )    \n",
    "    return newRow\n",
    "\n",
    "# Map the perturb_angles function to all zero angle and return back a dataframe\n",
    "df_pertubed = df_zero_angle.rdd.map(perturb_angles).toDF()\n",
    "\n",
    "#print(rdd_pertubed.take(1))\n",
    "df_pertubed.toPandas().head()"
   ]
  }
 ],
 "metadata": {
  "kernelspec": {
   "display_name": "Python 3",
   "language": "python",
   "name": "python3"
  },
  "language_info": {
   "codemirror_mode": {
    "name": "ipython",
    "version": 3
   },
   "file_extension": ".py",
   "mimetype": "text/x-python",
   "name": "python",
   "nbconvert_exporter": "python",
   "pygments_lexer": "ipython3",
   "version": "3.6.0"
  }
 },
 "nbformat": 4,
 "nbformat_minor": 2
}
