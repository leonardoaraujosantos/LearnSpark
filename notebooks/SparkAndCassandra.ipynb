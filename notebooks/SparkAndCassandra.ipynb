{
 "cells": [
  {
   "cell_type": "markdown",
   "metadata": {},
   "source": [
    "### Spark and Cassandra\n",
    "\n",
    "This tutorial aims to show how to work with cassandra and apache spark. The idea of merging the distributed dataset (Cassandra) and the Distributed framework, is that will allow us to easily play with the data on the cases that the data itself is bigger than what our machines (or a single powefull machine) can handle.\n",
    "\n",
    "#### Activate python 3.5\n",
    "The Cassandra Spark connector does not work with the newest version of apache spark, which also does not work with python 3.6, so we need to make this trick\n",
    "```bash\n",
    "conda create -n py35 python=3.5 anaconda\n",
    "source activate py35\n",
    "```\n",
    "\n",
    "#### Initialize Spark and Cassandra\n",
    "```bash\n",
    "pyspark --packages datastax:spark-cassandra-connector:2.0.1-s_2.11 --conf spark.cassandra.connection.host=127.0.0.1\n",
    "```\n",
    "References:\n",
    "* https://www.dezyre.com/apache-spark-tutorial/pyspark-tutorial\n",
    "* https://www.youtube.com/watch?v=GjNXK1SGDLw\n",
    "* https://www.youtube.com/watch?v=6x-917-BIrM&t=548s\n",
    "* https://github.com/datastax/spark-cassandra-connector\n",
    "* https://github.com/datastax/spark-cassandra-connector/blob/master/doc/0_quick_start.md\n",
    "* https://github.com/datastax/spark-cassandra-connector/blob/master/doc/1_connecting.md\n",
    "* https://spark-packages.org/package/datastax/spark-cassandra-connector\n",
    "* https://spark-packages.org/package/TargetHolding/pyspark-cassandra\n",
    "* https://github.com/TargetHolding/pyspark-cassandra\n",
    "* https://stackoverflow.com/questions/34882097/cannot-connect-to-cassandra-from-spark\n",
    "* https://github.com/anguenot/pyspark-cassandra#examples\n"
   ]
  },
  {
   "cell_type": "markdown",
   "metadata": {},
   "source": [
    "### Create a Dataframe from Cassandra"
   ]
  },
  {
   "cell_type": "code",
   "execution_count": 1,
   "metadata": {},
   "outputs": [
    {
     "name": "stdout",
     "output_type": "stream",
     "text": [
      "root\n",
      " |-- id: string (nullable = true)\n",
      " |-- acc: float (nullable = true)\n",
      " |-- image: binary (nullable = true)\n",
      " |-- wheel_angle: float (nullable = true)\n",
      "\n"
     ]
    }
   ],
   "source": [
    "df = spark.read.format(\"org.apache.spark.sql.cassandra\").options(table=\"tb_drive\", keyspace=\"mydb\").load()\n",
    "\n",
    "# Show dataframe (Distributed table structure)\n",
    "df.printSchema()"
   ]
  },
  {
   "cell_type": "markdown",
   "metadata": {},
   "source": [
    "### Get dataframe size"
   ]
  },
  {
   "cell_type": "code",
   "execution_count": 2,
   "metadata": {},
   "outputs": [
    {
     "name": "stdout",
     "output_type": "stream",
     "text": [
      "DataFrame size: 1040\n"
     ]
    }
   ],
   "source": [
    "# Get the size of the dataframe\n",
    "print('DataFrame size:',df.count())"
   ]
  },
  {
   "cell_type": "markdown",
   "metadata": {},
   "source": [
    "### Convert dataframe to pandas to display nicelly"
   ]
  },
  {
   "cell_type": "code",
   "execution_count": 5,
   "metadata": {},
   "outputs": [
    {
     "data": {
      "text/html": [
       "<div>\n",
       "<style>\n",
       "    .dataframe thead tr:only-child th {\n",
       "        text-align: right;\n",
       "    }\n",
       "\n",
       "    .dataframe thead th {\n",
       "        text-align: left;\n",
       "    }\n",
       "\n",
       "    .dataframe tbody tr th {\n",
       "        vertical-align: top;\n",
       "    }\n",
       "</style>\n",
       "<table border=\"1\" class=\"dataframe\">\n",
       "  <thead>\n",
       "    <tr style=\"text-align: right;\">\n",
       "      <th></th>\n",
       "      <th>id</th>\n",
       "      <th>acc</th>\n",
       "      <th>image</th>\n",
       "      <th>wheel_angle</th>\n",
       "    </tr>\n",
       "  </thead>\n",
       "  <tbody>\n",
       "    <tr>\n",
       "      <th>0</th>\n",
       "      <td>7e1ea253-5672-11e7-9708-989096d72294</td>\n",
       "      <td>1.000000</td>\n",
       "      <td>[137, 80, 78, 71, 13, 10, 26, 10, 0, 0, 0, 13,...</td>\n",
       "      <td>0.138223</td>\n",
       "    </tr>\n",
       "    <tr>\n",
       "      <th>1</th>\n",
       "      <td>8da0443a-5672-11e7-9708-989096d72294</td>\n",
       "      <td>1.000000</td>\n",
       "      <td>[137, 80, 78, 71, 13, 10, 26, 10, 0, 0, 0, 13,...</td>\n",
       "      <td>0.235052</td>\n",
       "    </tr>\n",
       "    <tr>\n",
       "      <th>2</th>\n",
       "      <td>87a6c739-5672-11e7-9708-989096d72294</td>\n",
       "      <td>1.000000</td>\n",
       "      <td>[137, 80, 78, 71, 13, 10, 26, 10, 0, 0, 0, 13,...</td>\n",
       "      <td>-0.080126</td>\n",
       "    </tr>\n",
       "    <tr>\n",
       "      <th>3</th>\n",
       "      <td>7cea6243-5672-11e7-9708-989096d72294</td>\n",
       "      <td>0.690148</td>\n",
       "      <td>[137, 80, 78, 71, 13, 10, 26, 10, 0, 0, 0, 13,...</td>\n",
       "      <td>0.080126</td>\n",
       "    </tr>\n",
       "    <tr>\n",
       "      <th>4</th>\n",
       "      <td>8da04448-5672-11e7-9708-989096d72294</td>\n",
       "      <td>1.000000</td>\n",
       "      <td>[137, 80, 78, 71, 13, 10, 26, 10, 0, 0, 0, 13,...</td>\n",
       "      <td>-0.099492</td>\n",
       "    </tr>\n",
       "  </tbody>\n",
       "</table>\n",
       "</div>"
      ],
      "text/plain": [
       "                                     id       acc  \\\n",
       "0  7e1ea253-5672-11e7-9708-989096d72294  1.000000   \n",
       "1  8da0443a-5672-11e7-9708-989096d72294  1.000000   \n",
       "2  87a6c739-5672-11e7-9708-989096d72294  1.000000   \n",
       "3  7cea6243-5672-11e7-9708-989096d72294  0.690148   \n",
       "4  8da04448-5672-11e7-9708-989096d72294  1.000000   \n",
       "\n",
       "                                               image  wheel_angle  \n",
       "0  [137, 80, 78, 71, 13, 10, 26, 10, 0, 0, 0, 13,...     0.138223  \n",
       "1  [137, 80, 78, 71, 13, 10, 26, 10, 0, 0, 0, 13,...     0.235052  \n",
       "2  [137, 80, 78, 71, 13, 10, 26, 10, 0, 0, 0, 13,...    -0.080126  \n",
       "3  [137, 80, 78, 71, 13, 10, 26, 10, 0, 0, 0, 13,...     0.080126  \n",
       "4  [137, 80, 78, 71, 13, 10, 26, 10, 0, 0, 0, 13,...    -0.099492  "
      ]
     },
     "execution_count": 5,
     "metadata": {},
     "output_type": "execute_result"
    }
   ],
   "source": [
    "df.toPandas().head(5)\n",
    "# Get 3 lines\n",
    "#df.take(3)"
   ]
  },
  {
   "cell_type": "markdown",
   "metadata": {},
   "source": [
    "### Do queries inside the dataframe (Using Spark Dataframe API)"
   ]
  },
  {
   "cell_type": "code",
   "execution_count": 13,
   "metadata": {},
   "outputs": [
    {
     "data": {
      "text/plain": [
       "733"
      ]
     },
     "execution_count": 13,
     "metadata": {},
     "output_type": "execute_result"
    }
   ],
   "source": [
    "# Get all angles different than zero\n",
    "df.filter(df.wheel_angle != 0).count()"
   ]
  },
  {
   "cell_type": "code",
   "execution_count": 7,
   "metadata": {},
   "outputs": [
    {
     "data": {
      "text/plain": [
       "512"
      ]
     },
     "execution_count": 7,
     "metadata": {},
     "output_type": "execute_result"
    }
   ],
   "source": [
    "# How many times we did not accelerate fully...\n",
    "df.filter(df.acc != 1).count()"
   ]
  },
  {
   "cell_type": "markdown",
   "metadata": {},
   "source": [
    "### Do queries inside the dataframe (Using Spark Sql API)\n",
    "We can transform a dataframe into a temporary table on the cluster allowing us to fully use SQL language."
   ]
  },
  {
   "cell_type": "code",
   "execution_count": 14,
   "metadata": {},
   "outputs": [
    {
     "name": "stdout",
     "output_type": "stream",
     "text": [
      "Number of instances: 214\n"
     ]
    },
    {
     "data": {
      "text/html": [
       "<div>\n",
       "<style>\n",
       "    .dataframe thead tr:only-child th {\n",
       "        text-align: right;\n",
       "    }\n",
       "\n",
       "    .dataframe thead th {\n",
       "        text-align: left;\n",
       "    }\n",
       "\n",
       "    .dataframe tbody tr th {\n",
       "        vertical-align: top;\n",
       "    }\n",
       "</style>\n",
       "<table border=\"1\" class=\"dataframe\">\n",
       "  <thead>\n",
       "    <tr style=\"text-align: right;\">\n",
       "      <th></th>\n",
       "      <th>wheel_angle</th>\n",
       "      <th>acc</th>\n",
       "    </tr>\n",
       "  </thead>\n",
       "  <tbody>\n",
       "    <tr>\n",
       "      <th>0</th>\n",
       "      <td>0.138223</td>\n",
       "      <td>1.000000</td>\n",
       "    </tr>\n",
       "    <tr>\n",
       "      <th>1</th>\n",
       "      <td>0.235052</td>\n",
       "      <td>1.000000</td>\n",
       "    </tr>\n",
       "    <tr>\n",
       "      <th>2</th>\n",
       "      <td>0.206003</td>\n",
       "      <td>0.544904</td>\n",
       "    </tr>\n",
       "    <tr>\n",
       "      <th>3</th>\n",
       "      <td>0.109174</td>\n",
       "      <td>0.680465</td>\n",
       "    </tr>\n",
       "    <tr>\n",
       "      <th>4</th>\n",
       "      <td>0.196321</td>\n",
       "      <td>0.000000</td>\n",
       "    </tr>\n",
       "  </tbody>\n",
       "</table>\n",
       "</div>"
      ],
      "text/plain": [
       "   wheel_angle       acc\n",
       "0     0.138223  1.000000\n",
       "1     0.235052  1.000000\n",
       "2     0.206003  0.544904\n",
       "3     0.109174  0.680465\n",
       "4     0.196321  0.000000"
      ]
     },
     "execution_count": 14,
     "metadata": {},
     "output_type": "execute_result"
    }
   ],
   "source": [
    "df.registerTempTable(\"autodrive\")\n",
    "df_filt = sqlContext.sql(\"SELECT wheel_angle, acc FROM autodrive where wheel_angle between 0.1 and 1.0\")\n",
    "print('Number of instances:',df_filt.count())\n",
    "df_filt.toPandas().head()"
   ]
  },
  {
   "cell_type": "code",
   "execution_count": null,
   "metadata": {
    "collapsed": true
   },
   "outputs": [],
   "source": []
  }
 ],
 "metadata": {
  "kernelspec": {
   "display_name": "Python 3",
   "language": "python",
   "name": "python3"
  },
  "language_info": {
   "codemirror_mode": {
    "name": "ipython",
    "version": 3
   },
   "file_extension": ".py",
   "mimetype": "text/x-python",
   "name": "python",
   "nbconvert_exporter": "python",
   "pygments_lexer": "ipython3",
   "version": "3.5.3"
  }
 },
 "nbformat": 4,
 "nbformat_minor": 2
}
